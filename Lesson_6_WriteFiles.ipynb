{
 "cells": [
  {
   "cell_type": "code",
   "execution_count": 5,
   "metadata": {},
   "outputs": [],
   "source": [
    "with open(\"resources/data/Example2.txt\",\"w\") as writeFile:\n",
    "    writeFile.write(\"This is a new line\\nThis is the second line\\n\")"
   ]
  },
  {
   "cell_type": "code",
   "execution_count": 3,
   "metadata": {},
   "outputs": [
    {
     "name": "stdout",
     "output_type": "stream",
     "text": [
      "This is a new line\n",
      "This is the second line\n"
     ]
    }
   ],
   "source": [
    "with open(\"resources/data/Example2.txt\",\"r\") as readFile:\n",
    "    print(readFile.read())"
   ]
  },
  {
   "cell_type": "code",
   "execution_count": 6,
   "metadata": {},
   "outputs": [],
   "source": [
    "with open (\"resources/data/Example2.txt\",\"a\") as appendFile:\n",
    "    appendFile.write(\"This is the 3rd line\\n\")\n",
    "    appendFile.write(\"This is the 4th line\\n\")"
   ]
  },
  {
   "cell_type": "code",
   "execution_count": 7,
   "metadata": {},
   "outputs": [],
   "source": [
    "linesList = ['Dear Sir\\n', 'This is a test for lists\\n', '3rd element\\n']\n",
    "\n",
    "with open (\"resources/data/Example2.txt\",\"a\") as appendFile:\n",
    "    for line in linesList:\n",
    "        appendFile.write(line)"
   ]
  },
  {
   "cell_type": "markdown",
   "metadata": {},
   "source": [
    "## Copy to a file"
   ]
  },
  {
   "cell_type": "code",
   "execution_count": 8,
   "metadata": {},
   "outputs": [],
   "source": [
    "with open (\"resources/data/Example2.txt\",\"r\") as readFile:\n",
    "    with open (\"resources/data/Example3.txt\",\"w\") as writeFile:\n",
    "        for line in readFile:\n",
    "            writeFile.write(line)\n",
    "            "
   ]
  },
  {
   "cell_type": "code",
   "execution_count": 10,
   "metadata": {},
   "outputs": [
    {
     "name": "stdout",
     "output_type": "stream",
     "text": [
      "This is a new line\n",
      "This is the second line\n",
      "This is the 3rd line\n",
      "This is the 4th line\n",
      "Dear Sir\n",
      "This is a test for lists\n",
      "3rd element\n",
      "\n"
     ]
    }
   ],
   "source": [
    "with open (\"resources/data/Example3.txt\",\"r\") as readFile:\n",
    "    print(readFile.read())"
   ]
  },
  {
   "cell_type": "code",
   "execution_count": null,
   "metadata": {},
   "outputs": [],
   "source": []
  }
 ],
 "metadata": {
  "kernelspec": {
   "display_name": "Python 3",
   "language": "python",
   "name": "python3"
  },
  "language_info": {
   "codemirror_mode": {
    "name": "ipython",
    "version": 3
   },
   "file_extension": ".py",
   "mimetype": "text/x-python",
   "name": "python",
   "nbconvert_exporter": "python",
   "pygments_lexer": "ipython3",
   "version": "3.8.2"
  }
 },
 "nbformat": 4,
 "nbformat_minor": 4
}
